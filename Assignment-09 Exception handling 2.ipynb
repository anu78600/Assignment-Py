{
 "cells": [
  {
   "cell_type": "markdown",
   "metadata": {},
   "source": [
    "Q1. Explain why we have to use the exception class while creating a custom exception."
   ]
  },
  {
   "cell_type": "markdown",
   "metadata": {},
   "source": [
    "Ans - \n",
    "\n",
    "1.To improve readability of your code.\n",
    "\n",
    "2.To enhance reusability of features.\n",
    "\n",
    "3.To provide custom messages/instructions to users for specific use cases.\n",
    "\n",
    "Exception class refers to the base class for all the exceptions."
   ]
  },
  {
   "cell_type": "code",
   "execution_count": null,
   "metadata": {},
   "outputs": [],
   "source": []
  },
  {
   "cell_type": "markdown",
   "metadata": {},
   "source": [
    "Q2. Write a python program to print python exception hierarchy."
   ]
  },
  {
   "cell_type": "code",
   "execution_count": null,
   "metadata": {},
   "outputs": [],
   "source": []
  },
  {
   "cell_type": "markdown",
   "metadata": {},
   "source": [
    "Q3. what errors are defined in the ArithmeticError class ? Explain any two with an examples."
   ]
  },
  {
   "cell_type": "markdown",
   "metadata": {},
   "source": [
    "Ans-\n",
    "\n",
    "The ArithmeticError Exception is the base class for all errors associated with arithmetic operation.\n",
    "\n",
    "ArithmeticError\n",
    "\n",
    "--> ZeroDivisionError\n",
    "\n",
    "--> OverflowError\n",
    "\n",
    "--> FloatingPointError"
   ]
  },
  {
   "cell_type": "code",
   "execution_count": 2,
   "metadata": {},
   "outputs": [
    {
     "name": "stdout",
     "output_type": "stream",
     "text": [
      "division by zero,  <class 'ZeroDivisionError'>\n"
     ]
    }
   ],
   "source": [
    "# zerodivision error\n",
    "try:\n",
    "    20/0\n",
    "except ArithmeticError as e:\n",
    "    print(f'{e},  {e.__class__}')    \n"
   ]
  },
  {
   "cell_type": "code",
   "execution_count": 4,
   "metadata": {},
   "outputs": [
    {
     "name": "stdout",
     "output_type": "stream",
     "text": [
      "(34, 'Result too large'),  <class 'OverflowError'>\n"
     ]
    }
   ],
   "source": [
    "# overflow error\n",
    "\n",
    "j = 6.0\n",
    "try:\n",
    "    for i in range(1,10000):\n",
    "        j = j**i\n",
    "except ArithmeticError as e:\n",
    "    print(f'{e},  {e.__class__}')        "
   ]
  },
  {
   "cell_type": "code",
   "execution_count": null,
   "metadata": {},
   "outputs": [],
   "source": []
  },
  {
   "cell_type": "markdown",
   "metadata": {},
   "source": [
    "Q4.Why LookupError class is used ? Explain with an example KeyError and IndexError."
   ]
  },
  {
   "cell_type": "markdown",
   "metadata": {},
   "source": [
    "Ans-\n",
    "\n",
    "LookupError is a built-in Python exception class that serves as the base class for all exceptions raised when an index or a key is not found for a sequence or dictionary,respectively.\n",
    "\n",
    "It is a subclass of the Exception class and is used to handle both IndexError and KeyError exceptions."
   ]
  },
  {
   "cell_type": "code",
   "execution_count": 5,
   "metadata": {},
   "outputs": [
    {
     "ename": "KeyError",
     "evalue": "'pear'",
     "output_type": "error",
     "traceback": [
      "\u001b[1;31m---------------------------------------------------------------------------\u001b[0m",
      "\u001b[1;31mKeyError\u001b[0m                                  Traceback (most recent call last)",
      "\u001b[1;32mc:\\Users\\anupa\\Downloads\\Anupam Mishra\\Data Science Course\\Assignment - 1\\Assignment-9 Exception handling 2.ipynb Cell 13\u001b[0m line \u001b[0;36m3\n\u001b[0;32m      <a href='vscode-notebook-cell:/c%3A/Users/anupa/Downloads/Anupam%20Mishra/Data%20Science%20Course/Assignment%20-%201/Assignment-9%20Exception%20handling%202.ipynb#X24sZmlsZQ%3D%3D?line=0'>1</a>\u001b[0m \u001b[39m# keyerror example\u001b[39;00m\n\u001b[0;32m      <a href='vscode-notebook-cell:/c%3A/Users/anupa/Downloads/Anupam%20Mishra/Data%20Science%20Course/Assignment%20-%201/Assignment-9%20Exception%20handling%202.ipynb#X24sZmlsZQ%3D%3D?line=1'>2</a>\u001b[0m my_dict \u001b[39m=\u001b[39m {\u001b[39m'\u001b[39m\u001b[39mapple\u001b[39m\u001b[39m'\u001b[39m:\u001b[39m1\u001b[39m,\u001b[39m'\u001b[39m\u001b[39mbanana\u001b[39m\u001b[39m'\u001b[39m:\u001b[39m2\u001b[39m,\u001b[39m'\u001b[39m\u001b[39morange\u001b[39m\u001b[39m'\u001b[39m:\u001b[39m3\u001b[39m}\n\u001b[1;32m----> <a href='vscode-notebook-cell:/c%3A/Users/anupa/Downloads/Anupam%20Mishra/Data%20Science%20Course/Assignment%20-%201/Assignment-9%20Exception%20handling%202.ipynb#X24sZmlsZQ%3D%3D?line=2'>3</a>\u001b[0m \u001b[39mprint\u001b[39m(my_dict[\u001b[39m'\u001b[39;49m\u001b[39mpear\u001b[39;49m\u001b[39m'\u001b[39;49m])\n",
      "\u001b[1;31mKeyError\u001b[0m: 'pear'"
     ]
    }
   ],
   "source": [
    "# keyerror example\n",
    "my_dict = {'apple':1,'banana':2,'orange':3}\n",
    "print(my_dict['pear'])"
   ]
  },
  {
   "cell_type": "code",
   "execution_count": 6,
   "metadata": {},
   "outputs": [
    {
     "ename": "IndexError",
     "evalue": "list index out of range",
     "output_type": "error",
     "traceback": [
      "\u001b[1;31m---------------------------------------------------------------------------\u001b[0m",
      "\u001b[1;31mIndexError\u001b[0m                                Traceback (most recent call last)",
      "\u001b[1;32mc:\\Users\\anupa\\Downloads\\Anupam Mishra\\Data Science Course\\Assignment - 1\\Assignment-9 Exception handling 2.ipynb Cell 14\u001b[0m line \u001b[0;36m4\n\u001b[0;32m      <a href='vscode-notebook-cell:/c%3A/Users/anupa/Downloads/Anupam%20Mishra/Data%20Science%20Course/Assignment%20-%201/Assignment-9%20Exception%20handling%202.ipynb#X25sZmlsZQ%3D%3D?line=0'>1</a>\u001b[0m \u001b[39m# index error\u001b[39;00m\n\u001b[0;32m      <a href='vscode-notebook-cell:/c%3A/Users/anupa/Downloads/Anupam%20Mishra/Data%20Science%20Course/Assignment%20-%201/Assignment-9%20Exception%20handling%202.ipynb#X25sZmlsZQ%3D%3D?line=2'>3</a>\u001b[0m my_list \u001b[39m=\u001b[39m [\u001b[39m1\u001b[39m,\u001b[39m2\u001b[39m,\u001b[39m3\u001b[39m]\n\u001b[1;32m----> <a href='vscode-notebook-cell:/c%3A/Users/anupa/Downloads/Anupam%20Mishra/Data%20Science%20Course/Assignment%20-%201/Assignment-9%20Exception%20handling%202.ipynb#X25sZmlsZQ%3D%3D?line=3'>4</a>\u001b[0m \u001b[39mprint\u001b[39m(my_list[\u001b[39m3\u001b[39;49m])\n",
      "\u001b[1;31mIndexError\u001b[0m: list index out of range"
     ]
    }
   ],
   "source": [
    "# index error\n",
    "\n",
    "my_list = [1,2,3]\n",
    "print(my_list[3])"
   ]
  },
  {
   "cell_type": "code",
   "execution_count": null,
   "metadata": {},
   "outputs": [],
   "source": []
  },
  {
   "cell_type": "markdown",
   "metadata": {},
   "source": [
    "Q5.Explain ImportError.What is ModuleNotFoundError?"
   ]
  },
  {
   "cell_type": "markdown",
   "metadata": {},
   "source": [
    "Ans-\n",
    "\n",
    "### ImportError\n",
    "\n",
    "An ImportError occurs when you try to import a module that has dependencies that are missing or cannot be imported. The error message shows the name of the module that caused the ImportError.\n",
    "\n",
    "#### Common Causes of ImportError\n",
    "\n",
    "The module has dependencies that are missing\n",
    "\n",
    "The module has dependencies that cannot be imported\n",
    "\n",
    "The module is not installed\n",
    "\n",
    "\n",
    "### ModuleNotFoundError\n",
    "\n",
    "When you import a module that does not exist or misspell the module name, Python raises a ModuleNotFoundError. This error occurs when Python cannot find the specified module. The error message shows the name of the module that Python cannot locate.\n",
    "\n",
    "#### Common Causes of ModuleNotFoundError\n",
    "\n",
    "The module name is misspelled\n",
    "\n",
    "The module does not exist\n",
    "\n",
    "The module is not installed\n",
    "\n",
    "The module is installed but not in the Python environment you are using"
   ]
  },
  {
   "cell_type": "code",
   "execution_count": null,
   "metadata": {},
   "outputs": [],
   "source": []
  },
  {
   "cell_type": "markdown",
   "metadata": {},
   "source": [
    "Q6.List down some best practices for exception handling in python."
   ]
  },
  {
   "cell_type": "markdown",
   "metadata": {},
   "source": [
    "Ans-\n",
    "\n",
    "1.Always use specific exception.\n",
    "\n",
    "2.Always print proper message while handling error.\n",
    "\n",
    "3.Always try to log your error , in case of future investigation.\n",
    "\n",
    "4.Always avoid to write multiple exception handling, just make it more precise.\n",
    "\n",
    "5.Document all the error.\n",
    "\n",
    "6.Cleanup all the resources."
   ]
  },
  {
   "cell_type": "markdown",
   "metadata": {},
   "source": []
  }
 ],
 "metadata": {
  "kernelspec": {
   "display_name": "Python 3",
   "language": "python",
   "name": "python3"
  },
  "language_info": {
   "codemirror_mode": {
    "name": "ipython",
    "version": 3
   },
   "file_extension": ".py",
   "mimetype": "text/x-python",
   "name": "python",
   "nbconvert_exporter": "python",
   "pygments_lexer": "ipython3",
   "version": "3.12.0"
  }
 },
 "nbformat": 4,
 "nbformat_minor": 2
}
