{
 "cells": [
  {
   "cell_type": "markdown",
   "metadata": {},
   "source": [
    "Q1.Explain GET and POST mehtods."
   ]
  },
  {
   "cell_type": "markdown",
   "metadata": {},
   "source": [
    "Ans--\n",
    "\n",
    "#### GET Method:\n",
    "\n",
    "The GET method is used to **request data** from a specified resource.\n",
    "\n",
    "The query string (name/value pairs) is sent in the URL of a GET request.\n",
    "\n",
    "GET requests can be cached, remain in the browser history, and can be bookmarked.\n",
    "\n",
    "GET requests should never be used when dealing with sensitive data.\n",
    "\n",
    "GET requests have length restrictions.\n",
    "\n",
    "GET requests are only used to request data (not modify).\n",
    "\n",
    "#### POST Method:\n",
    "\n",
    "The POST method is used to **send data** to a server to create/update a resource.\n",
    "\n",
    "The data sent to the server with POST is stored in the request body of the HTTP request.\n",
    "\n",
    "POST requests are never cached, do not remain in the browser history, and cannot be bookmarked.\n",
    "\n",
    "POST requests have no restrictions on data length.\n",
    "\n",
    "POST is a little safer than GET because the parameters are not stored in browser history or in web server logs.\n",
    "\n",
    "Data is not displayed in the URL.\n",
    "\n",
    "Here is a comparison of the two methods."
   ]
  },
  {
   "cell_type": "markdown",
   "metadata": {},
   "source": [
    "Q2.Why is request used in Flask?"
   ]
  },
  {
   "cell_type": "markdown",
   "metadata": {},
   "source": [
    "Ans--\n",
    "\n",
    "In Flask, the `request` object is used to handle the data sent from the client to the server. \n",
    "\n",
    "It contains all the data that a client sends to the server, which can be retrieved using HTTP methods like GET and POST. \n",
    "\n",
    "Here's a simple explanation of its usage:\n",
    "\n",
    "- **GET**: Retrieves information from the server (like fetching a web page).\n",
    "- **POST**: Sends information or data to the server (like filling out a form).\n",
    "\n",
    "The `request` object in Flask makes it easy to access and manipulate this data, making it a crucial part of building web applications. \n",
    "\n",
    "It also helps in maintaining the request-level data during a request. This allows for more flexible handling of various situations in your Flask application. \n"
   ]
  },
  {
   "cell_type": "markdown",
   "metadata": {},
   "source": [
    "Q3.Why is redirect() used in Flask?"
   ]
  },
  {
   "cell_type": "markdown",
   "metadata": {},
   "source": [
    "Ans--\n",
    "\n",
    "In Flask, the `redirect` function is used to send the user from **one URL** to **another**.\n",
    "\n",
    "This is useful when a certain action performed by the user requires them to be taken to a different part of the application.\n",
    "\n",
    "For **example**, after successfully logging in, you might want to `redirect` the user from the **login page** to the **homepage**. \n",
    "\n",
    "It's a way to guide the user's navigation through your web application.\n"
   ]
  },
  {
   "cell_type": "markdown",
   "metadata": {},
   "source": [
    "Q4.What are templates in Flask?Why is the render_template() function used?"
   ]
  },
  {
   "cell_type": "markdown",
   "metadata": {},
   "source": [
    "Ans--\n",
    "\n",
    "In Flask, **templates** are files that contain both fixed and dynamic content. \n",
    "They allow you to efficiently write easy-to-maintain HTML pages. \n",
    "\n",
    "You can use many features that are not available in standard HTML, such as variables, if statements, for loops, filters, and template inheritance.\n",
    "\n",
    "The `render_template()` function in Flask is used to **render these templates**. \n",
    "\n",
    "It takes the name of the template file as an argument and returns the rendered HTML as a response that can be sent back to the client. \n",
    "\n",
    "This function allows you to respond with an HTML template where you can efficiently write easy-to-maintain HTML pages.\n"
   ]
  },
  {
   "cell_type": "markdown",
   "metadata": {},
   "source": [
    "Q5.Create a simple API. Use Postman to test it. Attach the screenshot of the output in the Jupyter Notebook."
   ]
  },
  {
   "cell_type": "code",
   "execution_count": 6,
   "metadata": {},
   "outputs": [
    {
     "name": "stdout",
     "output_type": "stream",
     "text": [
      " * Serving Flask app '__main__'\n",
      " * Debug mode: off\n"
     ]
    },
    {
     "name": "stderr",
     "output_type": "stream",
     "text": [
      "WARNING: This is a development server. Do not use it in a production deployment. Use a production WSGI server instead.\n",
      " * Running on all addresses (0.0.0.0)\n",
      " * Running on http://127.0.0.1:5000\n",
      " * Running on http://192.168.29.174:5000\n",
      "Press CTRL+C to quit\n",
      "192.168.29.174 - - [15/Dec/2023 21:54:25] \"POST /api HTTP/1.1\" 200 -\n"
     ]
    }
   ],
   "source": [
    "from flask import Flask, request, jsonify\n",
    "\n",
    "app = Flask(__name__)\n",
    "\n",
    "@app.route('/api', methods=['POST'])\n",
    "def api():\n",
    "    data = request.get_json(['Name'])\n",
    "    return jsonify(data), 200\n",
    "\n",
    "if __name__ == '__main__':\n",
    "    app.run(host=\"0.0.0.0\")"
   ]
  },
  {
   "cell_type": "markdown",
   "metadata": {},
   "source": [
    "![postman](https://github.com/anu78600/Assignment-Py/assets/123054203/112890d2-152e-442c-a538-f03040cf35bb)"
   ]
  },
  {
   "cell_type": "markdown",
   "metadata": {},
   "source": []
  }
 ],
 "metadata": {
  "kernelspec": {
   "display_name": "Python 3",
   "language": "python",
   "name": "python3"
  },
  "language_info": {
   "codemirror_mode": {
    "name": "ipython",
    "version": 3
   },
   "file_extension": ".py",
   "mimetype": "text/x-python",
   "name": "python",
   "nbconvert_exporter": "python",
   "pygments_lexer": "ipython3",
   "version": "3.12.0"
  }
 },
 "nbformat": 4,
 "nbformat_minor": 2
}
