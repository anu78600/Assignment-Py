{
 "cells": [
  {
   "cell_type": "markdown",
   "metadata": {},
   "source": [
    "Q1.What is web scrapping?why it is used?Give three areas where web scraping is used to get data."
   ]
  },
  {
   "cell_type": "markdown",
   "metadata": {},
   "source": [
    "Ans--\n",
    "\n",
    "**Web Scraping**, also known as data scraping, is a technique used to collect content and data from the internet. This data is usually saved in a local file so that it can be manipulated and analyzed as needed. It's an automatic method to obtain large amounts of data from websites. Most of this data is unstructured data in an HTML format which is then converted into structured data in a spreadsheet or a database so that it can be used in various applications.\n",
    "\n",
    "**Web Scraping Use--**\n",
    "\n",
    "Web scraping is used because it allows organizations to collect Big Data quickly and efficiently, providing them with a competitive advantage over competitors. It's used to monitor brand mentions on social media, track competitors' pricing strategies, and gather data for market research.\n",
    "\n",
    "Three areas where web scraping is commonly used:\n",
    "\n",
    "1. **Data Analytics & Data Science**: Machine learning algorithms require a large volume of data to improve the accuracy of outputs. Web scraping can help data scientists acquire the required training dataset to train ML models.\n",
    "\n",
    "2. **Marketing & Sales**: For every price elastic product in the market, setting optimal prices is one of the most effective ways to improve revenues. However, competitor pricing needs to be known to determine the most optimal prices. Companies can also use these insights in setting dynamic prices.\n",
    "\n",
    "3. **Real Estate Market Analysis**: Web scraping is commonly used to retrieve the most updated data about properties, sale prices, monthly rental income, amenities, property agents, and other data points.\n"
   ]
  },
  {
   "cell_type": "markdown",
   "metadata": {},
   "source": [
    "Q2.What are the different methods used for web scraping?"
   ]
  },
  {
   "cell_type": "markdown",
   "metadata": {},
   "source": [
    "Ans--\n",
    "\n",
    "There are several methods used for web scraping :\n",
    "\n",
    "1. **DOM Parsing**: This technique involves analyzing the HTML structure of a web page to extract specific data elements like headings, paragraphs, images, links, etc.\n",
    "\n",
    "2. **Regular Expressions (Regex)**: Regular expressions are a powerful technique used in web scraping to identify and extract specific patterns in the text of a web page.\n",
    "\n",
    "3. **XPath**: XPath (XML Path Language) is a query language for selecting nodes from an XML document. In web scraping, XPath expressions can be used to navigate through elements and attributes in an XML document.\n",
    "\n",
    "4. **APIs**: Many large websites, like Google, Twitter, Facebook, StackOverflow, etc., have APIs that allow you to access their data in a structured format.\n",
    "\n",
    "5. **Web Scraping Tools**: There are many tools and technologies available for web scraping. Most programming languages like Python or R have specific libraries or extensions that allow you to extract data efficiently. Beautiful Soup, Scrapy, Selenium, and Octoparse are some of the most widespread web scrapers.\n"
   ]
  },
  {
   "cell_type": "markdown",
   "metadata": {},
   "source": []
  }
 ],
 "metadata": {
  "language_info": {
   "name": "python"
  }
 },
 "nbformat": 4,
 "nbformat_minor": 2
}
