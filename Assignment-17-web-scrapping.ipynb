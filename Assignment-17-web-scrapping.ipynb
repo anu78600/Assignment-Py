{
 "cells": [
  {
   "cell_type": "markdown",
   "metadata": {},
   "source": [
    "Q1.What is web scrapping?why it is used?Give three areas where web scraping is used to get data."
   ]
  },
  {
   "cell_type": "markdown",
   "metadata": {},
   "source": [
    "Ans--\n",
    "\n",
    "**Web Scraping**, also known as data scraping, is a technique used to collect content and data from the internet. This data is usually saved in a local file so that it can be manipulated and analyzed as needed. It's an automatic method to obtain large amounts of data from websites. Most of this data is unstructured data in an HTML format which is then converted into structured data in a spreadsheet or a database so that it can be used in various applications.\n",
    "\n",
    "**Web Scraping Use--**\n",
    "\n",
    "Web scraping is used because it allows organizations to collect Big Data quickly and efficiently, providing them with a competitive advantage over competitors. It's used to monitor brand mentions on social media, track competitors' pricing strategies, and gather data for market research.\n",
    "\n",
    "Three areas where web scraping is commonly used:\n",
    "\n",
    "1. **Data Analytics & Data Science**: Machine learning algorithms require a large volume of data to improve the accuracy of outputs. Web scraping can help data scientists acquire the required training dataset to train ML models.\n",
    "\n",
    "2. **Marketing & Sales**: For every price elastic product in the market, setting optimal prices is one of the most effective ways to improve revenues. However, competitor pricing needs to be known to determine the most optimal prices. Companies can also use these insights in setting dynamic prices.\n",
    "\n",
    "3. **Real Estate Market Analysis**: Web scraping is commonly used to retrieve the most updated data about properties, sale prices, monthly rental income, amenities, property agents, and other data points.\n"
   ]
  },
  {
   "cell_type": "markdown",
   "metadata": {},
   "source": [
    "Q2.What are the different methods used for web scraping?"
   ]
  },
  {
   "cell_type": "markdown",
   "metadata": {},
   "source": [
    "Ans--\n",
    "\n",
    "There are several methods used for web scraping :\n",
    "\n",
    "1. **DOM Parsing**: This technique involves analyzing the HTML structure of a web page to extract specific data elements like headings, paragraphs, images, links, etc.\n",
    "\n",
    "2. **Regular Expressions (Regex)**: Regular expressions are a powerful technique used in web scraping to identify and extract specific patterns in the text of a web page.\n",
    "\n",
    "3. **XPath**: XPath (XML Path Language) is a query language for selecting nodes from an XML document. In web scraping, XPath expressions can be used to navigate through elements and attributes in an XML document.\n",
    "\n",
    "4. **APIs**: Many large websites, like Google, Twitter, Facebook, StackOverflow, etc., have APIs that allow you to access their data in a structured format.\n",
    "\n",
    "5. **Web Scraping Tools**: There are many tools and technologies available for web scraping. Most programming languages like Python or R have specific libraries or extensions that allow you to extract data efficiently. Beautiful Soup, Scrapy, Selenium, and Octoparse are some of the most widespread web scrapers.\n"
   ]
  },
  {
   "cell_type": "markdown",
   "metadata": {},
   "source": [
    "Q3.What is Beautiful Soup?Why is it used?"
   ]
  },
  {
   "cell_type": "markdown",
   "metadata": {},
   "source": [
    "Beautiful Soup is a Python library that makes it easy to scrape information from web pages. It sits atop an HTML or XML parser, providing Pythonic idioms for iterating, searching, and modifying the parse tree. \n",
    "\n",
    "It is used for web scraping because it simplifies the process of navigating web pages, parsing HTML data, and locating elements to extract. \n",
    "\n",
    "**Example**\n",
    "\n",
    "you can use Beautiful Soup to find all the links in a web page, extract text from HTML tags, or access the attributes of HTML elements. \n",
    "\n",
    "A sample code that uses Beautiful Soup to scrape the title and summary of the first web search result for \"beautiful soup\":\n",
    "\n",
    "```python\n",
    "# Import requests and BeautifulSoup\n",
    "import requests\n",
    "from bs4 import BeautifulSoup\n",
    "\n",
    "# Make a GET request to Bing with the query \"beautiful soup\"\n",
    "response = requests.get(\"https://www.bing.com/search?q=beautiful+soup\")\n",
    "\n",
    "# Parse the response content as HTML using BeautifulSoup\n",
    "soup = BeautifulSoup(response.content, \"html.parser\")\n",
    "\n",
    "# Find the first result list item\n",
    "result = soup.find(\"li\", class_=\"b_algo\")\n",
    "\n",
    "# Extract the title and summary from the result\n",
    "title = result.find(\"h2\").text\n",
    "summary = result.find(\"p\").text\n",
    "\n",
    "# Print the title and summary\n",
    "print(title)\n",
    "print(summary)\n",
    "```\n",
    "\n",
    "Output:\n",
    "\n",
    "```\n",
    "beautifulsoup4 · PyPI\n",
    "beautifulsoup4 4.12.2 pip install beautifulsoup4 Latest version Released: Apr 7, 2023 Project description Beautiful Soup is a library that makes it easy to scrape information from web pages. It sits atop an HTML or XML parser, providing Pythonic idioms for iterating, searching, and modifying the parse tree. Quick start >>> from bs4 import BeautifulSoup >>> soup = BeautifulSoup (\"<p>Some<b>bad<i>HTML\") >>> print (soup.prettify ()) <html> <body> <p> Some <b> bad <i> HTML </i> </b> </p> </body> </html> >>> soup.find (text=\"bad\") 'bad' >>> soup.i <i>HTML</i> # >>> soup = BeautifulSoup (\"<tag1>Some<tag2/>bad<tag3>XML\", \"xml\") # >>> print (soup.prettify ()) <?xml version=\"1.0\" encoding=\"utf-8\"?> <tag1> Some <tag2/> bad <tag3> XML </tag3> </tag1> To go beyond the basics, comprehensive documentation is available. Links Homepage Documentation Discussion group Development Bug tracker Complete changelog Note on Python 2 sunsetting Beautiful Soup's support for Python 2 was discontinued on December 31, 2020: one year after the sunset date for Python 2 itself. From this point onward, new Beautiful Soup development will exclusively target Python 3. The final release of Beautiful Soup 4 to support Python 2 was 4.9.3. Supporting the project If you use Beautiful Soup as part of your professional work, please consider a Tidelift subscription . This will support many of the free software projects your organization depends on, not just Beautiful Soup. If you use Beautiful Soup for personal projects, the best way to say thank you is to read Tool Safety, a zine I wrote about what Beautiful Soup has taught me about software development. Building the documentation The bs4/doc/ directory contains full documentation in Sphinx format. Run make html in that directory to create HTML documentation. Running the unit tests Beautiful Soup supports unit test discovery using Pytest: $ pytest\n",
    "```\n"
   ]
  },
  {
   "cell_type": "markdown",
   "metadata": {},
   "source": [
    "Q4. Why is flask used in this Web Scraping project?"
   ]
  },
  {
   "cell_type": "markdown",
   "metadata": {},
   "source": [
    "Ans--\n",
    "\n",
    "**Flask** is a lightweight web framework for Python that allows you to create web applications with minimal code and configuration. \n",
    "\n",
    "**Flask** is used in this web scraping project because it provides a simple and convenient way to display the scraped data on a web page using templates and routes. \n",
    "\n",
    "**Flask** also supports various extensions and libraries that can enhance the functionality and performance of the web scraper, such as Requests, Beautiful Soup, and SQLAlchemy. \n",
    "\n",
    "**Flask** is a good choice for web scraping projects because it is easy to learn, flexible, and scalable."
   ]
  },
  {
   "cell_type": "markdown",
   "metadata": {},
   "source": [
    "Q5. Write the names of AWS services used in this project. Also, explain the use of each service."
   ]
  },
  {
   "cell_type": "markdown",
   "metadata": {},
   "source": [
    "Ans--\n",
    "\n",
    "**AWS Elastic Beanstalk** and **AWS CodePipeline** are two **AWS** services that can be used to `deploy` and `automate` web applications. \n",
    "\n",
    "\n",
    "**AWS Elastic Beanstalk** is a service that allows us to quickly deploy and manage web applications without worrying about the underlying infrastructure. We can upload our code and Elastic Beanstalk will automatically handle the details of capacity provisioning, load balancing, scaling, and application health monitoring.\n",
    "\n",
    "**AWS CodePipeline** is a service that helps us automate our continuous delivery pipelines for fast and reliable application and infrastructure updates. we can model and configure the different stages of our software release process using the AWS Management Console or AWS CLI. CodePipeline will automate the steps required to release our code changes continuously.\n",
    "\n",
    "To **deploy** a `web scraping project` on AWS using Elastic Beanstalk and CodePipeline, we can **follow** these **steps:**\n",
    "\n",
    "1. Create a Python script that scrapes data from a website using a web scraping library such as BeautifulSoup, Scrapy, or Selenium. We can also use a tool like Selectorlib to extract data from web elements easily.\n",
    "\n",
    "2. Create a Dockerfile that defines the environment and dependencies for our web scraping script. we can use the official Python Docker image as a base and install any additional packages we need.\n",
    "\n",
    "3. Create an Elastic Beanstalk application and environment using the AWS Management Console or AWS CLI. Choose the Docker platform and configure the settings for your application, such as the instance type, security group, and scaling options.\n",
    "\n",
    "4. Create a CodePipeline pipeline using the AWS Management Console or AWS CLI. Choose a source provider, such as AWS CodeCommit, GitHub, or Amazon S3, where we store our web scraping code and Dockerfile. Choose Elastic Beanstalk as the deploy provider and select the application and environment you created in the previous step.\n",
    "\n",
    "5. Optionally, we can add a build stage to our pipeline using AWS CodeBuild or another build service. This stage can run tests, linting, or other commands on our code before deploying it to Elastic Beanstalk.\n",
    "\n",
    "6. Optionally, we can add a schedule trigger to our pipeline using AWS EventBridge or another event service. This trigger can run our pipeline at a specific time or interval, such as every hour or every day, to scrape the latest data from the website.\n"
   ]
  },
  {
   "cell_type": "markdown",
   "metadata": {},
   "source": []
  }
 ],
 "metadata": {
  "language_info": {
   "name": "python"
  }
 },
 "nbformat": 4,
 "nbformat_minor": 2
}
