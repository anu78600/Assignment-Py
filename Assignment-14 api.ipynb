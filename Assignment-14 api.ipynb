{
 "cells": [
  {
   "cell_type": "markdown",
   "metadata": {},
   "source": [
    "Q1. What is an API?Give an example,where an API is used in real life."
   ]
  },
  {
   "cell_type": "markdown",
   "metadata": {},
   "source": [
    "Ans--\n",
    "\n",
    "An API, or Application Programming Interface, is a set of rules that enable different software applications to communicate with each other. \n",
    "\n",
    "It acts as a bridge, allowing two programs to exchange data."
   ]
  },
  {
   "cell_type": "markdown",
   "metadata": {},
   "source": [
    "Example--\n",
    "\n",
    "A real-life example of API usage is the “Log in using Facebook/Twitter/Google” functionality you see on many websites. \n",
    "\n",
    "Instead of logging into users’ social media accounts, these applications use the platforms’ APIs to authenticate the user with each login. This makes the login process more convenient and secure."
   ]
  },
  {
   "cell_type": "code",
   "execution_count": null,
   "metadata": {},
   "outputs": [],
   "source": []
  },
  {
   "cell_type": "markdown",
   "metadata": {},
   "source": [
    "Q2. Give advantages and disadvantages of using API."
   ]
  },
  {
   "cell_type": "markdown",
   "metadata": {},
   "source": [
    "Ans--\n",
    "\n",
    "#### Advantages:\n",
    "\n",
    "1. Ease of Integration: APIs allow different software applications to communicate with each other.\n",
    "\n",
    "2. Automation: APIs can automate tasks, making processes more efficient.\n",
    "\n",
    "3. Flexibility: APIs support unanticipated future uses and provide flexibility in delivering services.\n",
    "\n",
    "#### Disadvantages:\n",
    "\n",
    "1. Cost: Developing and implementing APIs can be costly and require high maintenance.\n",
    "\n",
    "2. Security Risks: APIs add another layer that is prone to attacks, increasing security risks.\n",
    "\n",
    "3. Complexity: Creating APIs can be a time-consuming process and requires programming knowledge."
   ]
  },
  {
   "cell_type": "code",
   "execution_count": null,
   "metadata": {},
   "outputs": [],
   "source": []
  },
  {
   "cell_type": "markdown",
   "metadata": {},
   "source": [
    "Q3. What is a Web API? Differentiate between API and Web API."
   ]
  },
  {
   "cell_type": "markdown",
   "metadata": {},
   "source": [
    "Ans --\n",
    "\n",
    "As the name indicates, a Web API is an API accessed through the HTTP protocol across the internet. Web APIs can be created with a variety of technologies, including Java,.NET, and others; it's a concept rather than a technology."
   ]
  },
  {
   "cell_type": "markdown",
   "metadata": {},
   "source": [
    "#### Difference between API and Web API:\n",
    "\n",
    "1. An API is a software interface that allows two applications to interact with each other. A Web API is a type of API which must be accessed through a network connection.\n",
    "\n",
    "2. Web service is used for REST, SOAP, and XML-RPC for communication, while API is used for any style of communication.\n",
    "\n",
    "3. Web service supports only HTTP protocol, whereas API supports HTTP/HTTPS protocol.\n",
    "\n",
    "4. Web service supports XML, while API supports XML and JSON.\n",
    "\n",
    "5. All Web services are APIs, but all APIs are not web services."
   ]
  },
  {
   "cell_type": "markdown",
   "metadata": {},
   "source": [
    "#### Example--\n",
    "\n",
    "Weather Snippets: Google isn’t in the weather data business, so they source this information from a third party. They do so by means of an API, which sends them the latest weather details in a way that’s easy for them to reformat."
   ]
  },
  {
   "cell_type": "code",
   "execution_count": null,
   "metadata": {},
   "outputs": [],
   "source": []
  },
  {
   "cell_type": "markdown",
   "metadata": {},
   "source": [
    "Q4. Explain REST and SOAP Architecture. Mention shortcomings of SOAP."
   ]
  },
  {
   "cell_type": "markdown",
   "metadata": {},
   "source": [
    "Ans--\n",
    "\n",
    "#### REST:\n",
    "\n",
    "(Representational State Transfer) is an architectural style for providing standards between computer systems on the web, making it easier for systems to communicate with each other.\n",
    "\n",
    "RESTful systems are characterized by how they are stateless and separate the concerns of client and server.\n",
    "\n",
    "#### SOAP:\n",
    "\n",
    "(Simple Object Access Protocol) is a protocol for exchanging information between systems and applications. \n",
    "\n",
    "It’s developed in a more structured and formalized way, using XML as the data format for messages being sent and received by an API client.\n",
    "\n",
    "Differences:\n",
    "\n",
    "SOAP is a protocol with a specific set of rules to follow, while REST is a style of software architecture.\n",
    "\n",
    "SOAP only supports XML, while REST supports multiple formats like XML, JSON, etc.\n",
    "\n",
    "SOAP is more complex and can have performance implications, while REST is simpler and faster.\n",
    "\n",
    "Shortcomings of SOAP:\n",
    "\n",
    "SOAP does not support caching API calls.\n",
    "\n",
    "SOAP is more complicated than REST, which can have performance implications.\n",
    "\n",
    "SOAP is less adaptable than REST.\n",
    "\n",
    "SOAP is usually slower than REST."
   ]
  },
  {
   "cell_type": "code",
   "execution_count": null,
   "metadata": {},
   "outputs": [],
   "source": []
  },
  {
   "cell_type": "markdown",
   "metadata": {},
   "source": [
    "Q5. Differentiate between REST and SOAP."
   ]
  },
  {
   "cell_type": "markdown",
   "metadata": {},
   "source": [
    "Ans --\n",
    "\n",
    "#### Differences:\n",
    "\n",
    "SOAP is a protocol with a specific set of rules to follow, while REST is a style of software architecture.\n",
    "\n",
    "SOAP only supports XML, while REST supports multiple formats like XML, JSON, etc.\n",
    "\n",
    "SOAP is more complex and can have performance implications, while REST is simpler and faster.\n",
    "\n",
    "SOAP does not support caching API calls.\n",
    "\n",
    "SOAP is more complicated than REST, which can have performance implications.\n",
    "\n",
    "SOAP is less adaptable than REST.\n",
    "\n",
    "SOAP is usually slower than REST."
   ]
  },
  {
   "cell_type": "markdown",
   "metadata": {},
   "source": []
  }
 ],
 "metadata": {
  "kernelspec": {
   "display_name": "Python 3",
   "language": "python",
   "name": "python3"
  },
  "language_info": {
   "codemirror_mode": {
    "name": "ipython",
    "version": 3
   },
   "file_extension": ".py",
   "mimetype": "text/x-python",
   "name": "python",
   "nbconvert_exporter": "python",
   "pygments_lexer": "ipython3",
   "version": "3.12.0"
  }
 },
 "nbformat": 4,
 "nbformat_minor": 2
}
