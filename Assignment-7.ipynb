{
 "cells": [
  {
   "cell_type": "markdown",
   "metadata": {},
   "source": [
    "Q1. What is Abstraction in OOps? Explain with an example."
   ]
  },
  {
   "cell_type": "markdown",
   "metadata": {},
   "source": [
    "Ans -\n",
    "\n",
    "Data abstraction is one of the most essential concepts of Python OOPs which is used to hide irrelevant details from the user and show the details that are relevant to the users.\n",
    "\n",
    "A simple example of this can be a car.\n",
    "\n",
    " A car has an accelerator, clutch, and break and we all know that pressing an accelerator will increase the speed of the car and applying the brake can stop the car but we don’t the internal mechanism of the car and how these functionalities can work this detail hiding is known as data abstraction."
   ]
  },
  {
   "cell_type": "code",
   "execution_count": null,
   "metadata": {},
   "outputs": [],
   "source": []
  },
  {
   "cell_type": "markdown",
   "metadata": {},
   "source": [
    "Q2. Differentiate between Abstraction and Encapsulation. Explain with an example."
   ]
  },
  {
   "cell_type": "markdown",
   "metadata": {},
   "source": [
    "Ans-\n",
    "\n",
    "\n",
    "### Abstraction vs Encapsulation - ###\n",
    "\n",
    " Abstraction is focused mainly on what should be done,\n",
    " \n",
    " Encapsulation is focused on how it should be done.\n",
    "  \n",
    "   Encapsulation means that an object's internal state (data) can be modified only by its public methods (public interface).\n",
    "   \n",
    "   Abstraction means that you can abstract from concrete implementations.\n",
    "    \n",
    "     For example-\n",
    "     \n",
    "      hiding the procedure of adding data into the database from other users is Abstraction,\n",
    "      \n",
    "       while putting all the necessary methods into one Users class and providing other users to use is Encapsulation."
   ]
  },
  {
   "cell_type": "code",
   "execution_count": null,
   "metadata": {},
   "outputs": [],
   "source": []
  },
  {
   "cell_type": "markdown",
   "metadata": {},
   "source": [
    "Q3. What is abc module in python? Why is it used?"
   ]
  },
  {
   "cell_type": "markdown",
   "metadata": {},
   "source": [
    "Ans-\n",
    "\n",
    "The 'abc' module in Python library provides the infrastructure for defining custom abstract base classes.\n",
    "\n",
    " Python does not directly support abstract classes, but the abc module allows you to define abstract classes.\n",
    " \n",
    "  The module works by marking methods of the base class as abstract using the @absttractmethod decorator.\n",
    "  \n",
    "   A concrete class which is a sub class of such abstract base class then implements the abstract base by overriding its abstract methods."
   ]
  },
  {
   "cell_type": "code",
   "execution_count": null,
   "metadata": {},
   "outputs": [],
   "source": []
  },
  {
   "cell_type": "markdown",
   "metadata": {},
   "source": [
    "Q4. How can we achieve data abstraction?"
   ]
  },
  {
   "cell_type": "markdown",
   "metadata": {},
   "source": [
    "Ans-\n",
    "\n",
    "Data Abstraction can be achieved in two ways:\n",
    "\n",
    "\n",
    "Abstraction using classes: An abstraction can be achieved using classes. A class is used to group all the data members and member functions into a single unit by using the access specifiers. A class has the responsibility to determine which data member is to be visible outside and which is not.\n",
    "\n",
    "\n",
    "Abstraction using interfaces: An interface is a collection of abstract methods. An interface can be used to achieve abstraction. It is used to provide a specification of the behavior of an object."
   ]
  },
  {
   "cell_type": "code",
   "execution_count": null,
   "metadata": {},
   "outputs": [],
   "source": []
  },
  {
   "cell_type": "markdown",
   "metadata": {},
   "source": [
    "Q5. Can we create an instance of an abstract class? Explain your answer."
   ]
  },
  {
   "cell_type": "markdown",
   "metadata": {},
   "source": [
    "Ans -\n",
    "\n",
    "No, you cannot create an instance of an abstract class in Python.\n",
    "\n",
    " An abstract class provides an interface for subclasses to avoid code duplication, and it makes no sense to instantiate an abstract class.\n",
    " \n",
    " A derived subclass must implement the abstract methods to create a concrete class that fits the interface defined by the abstract class."
   ]
  },
  {
   "cell_type": "markdown",
   "metadata": {},
   "source": []
  }
 ],
 "metadata": {
  "language_info": {
   "name": "python"
  }
 },
 "nbformat": 4,
 "nbformat_minor": 2
}
