{
 "cells": [
  {
   "cell_type": "markdown",
   "metadata": {},
   "source": [
    "Q1.What is multiprocessing in python?why is it useful?"
   ]
  },
  {
   "cell_type": "markdown",
   "metadata": {},
   "source": [
    "Ans-\n",
    "\n",
    "Multiprocessing refers to the ability of a system to support more than one processor at the same time.\n",
    "\n",
    "Applications in a multiprocessing system are broken to smaller routines that run independently.\n",
    "\n",
    "The multiprocessing module includes a very simple and intuitive API for dividing work between multiple processes.\n",
    "\n",
    "Multiprocessing in python can be a powerful tool for speeding up your code. By dividing tasks between multiple processors."
   ]
  },
  {
   "cell_type": "markdown",
   "metadata": {},
   "source": []
  },
  {
   "cell_type": "markdown",
   "metadata": {},
   "source": [
    "Q2.What are the differences between multiprocessing and multithreading?"
   ]
  },
  {
   "cell_type": "markdown",
   "metadata": {},
   "source": [
    "Ans- \n",
    "\n",
    "#### Multiprocessing\n",
    "\n",
    "1.CPUs are added for increasing computing power.\n",
    "\n",
    "2.Many process are executed simultaneously.\n",
    "\n",
    "3.Process creation is a time consuming process.\n",
    "\n",
    "4.Every process owned a seperate address space.\n",
    "\n",
    "#### Multithreading\n",
    "\n",
    "1.Many threads are created of a single process for increasing computing power.\n",
    "\n",
    "2.Many threads of a process are executed simultaneously.\n",
    "\n",
    "3.Process creation is according to economical.\n",
    "\n",
    "4.A common address space is shared by all the threads."
   ]
  },
  {
   "cell_type": "code",
   "execution_count": null,
   "metadata": {},
   "outputs": [],
   "source": []
  },
  {
   "cell_type": "markdown",
   "metadata": {},
   "source": [
    "Q3.Write a python code to create a process using the multiprocessing module."
   ]
  },
  {
   "cell_type": "code",
   "execution_count": 3,
   "metadata": {},
   "outputs": [
    {
     "name": "stdout",
     "output_type": "stream",
     "text": [
      "Program is executed\n"
     ]
    }
   ],
   "source": [
    "import multiprocessing\n",
    "\n",
    "def my_process():\n",
    "    print(\"Hello from a child process!\")\n",
    "\n",
    "if __name__ == '__main__':\n",
    "    p = multiprocessing.Process(target=my_process)\n",
    "    p.start()\n",
    "    p.join()\n",
    "    print('Program is executed')"
   ]
  },
  {
   "cell_type": "markdown",
   "metadata": {},
   "source": [
    "Q4.What is a multiprocessing pool in python? Why is it used?"
   ]
  },
  {
   "cell_type": "markdown",
   "metadata": {},
   "source": [
    "Ans-\n",
    "\n",
    "The Python Multiprocessing Pool provides reusable worker processes in Python.\n",
    "\n",
    "The Pool is a lesser-known class that is a part of the Python standard library. It offers easy-to-use pools of child worker processes and is ideal for parallelizing loops of CPU-bound tasks and for executing tasks asynchronously."
   ]
  },
  {
   "cell_type": "code",
   "execution_count": null,
   "metadata": {},
   "outputs": [],
   "source": []
  },
  {
   "cell_type": "markdown",
   "metadata": {},
   "source": [
    "Q5.How can we create a pool of worker processes in python using the multiprocessing module?"
   ]
  },
  {
   "cell_type": "code",
   "execution_count": 4,
   "metadata": {},
   "outputs": [
    {
     "name": "stdout",
     "output_type": "stream",
     "text": [
      "Worker started\n",
      "Computing things!\n",
      "9\n"
     ]
    }
   ],
   "source": [
    "from multiprocessing import Pool, Process\n",
    "\n",
    "class Worker(Process):\n",
    "    def __init__(self):\n",
    "        print ('Worker started')\n",
    "        # do some initialization here\n",
    "        super(Worker, self).__init__()\n",
    "\n",
    "    def compute(self, data):\n",
    "        print ('Computing things!')\n",
    "        return data * data\n",
    "\n",
    "if __name__ == '__main__':\n",
    "    # This works fine\n",
    "    worker = Worker()\n",
    "    print (worker.compute(3))\n",
    "\n",
    "    # workers get initialized fine\n",
    "    pool = Pool(processes = 4,\n",
    "                initializer = Worker)\n",
    "    data = range(10)\n",
    "    # How to use my worker pool?\n",
    "    result = pool.map(Worker, data)"
   ]
  },
  {
   "cell_type": "code",
   "execution_count": null,
   "metadata": {},
   "outputs": [],
   "source": []
  },
  {
   "cell_type": "markdown",
   "metadata": {},
   "source": [
    "Q6. Write a python program to create 4 processes, each process should print a different number using the multiprocessing module in python."
   ]
  },
  {
   "cell_type": "code",
   "execution_count": 2,
   "metadata": {},
   "outputs": [
    {
     "name": "stdout",
     "output_type": "stream",
     "text": [
      "Process is Executed\n"
     ]
    }
   ],
   "source": [
    "import multiprocessing\n",
    "\n",
    "def print_number(num):\n",
    "    print(f\"Process {num}: {num}\")\n",
    "\n",
    "if __name__ == \"__main__\":\n",
    "    processes = []\n",
    "    for i in range(4):\n",
    "        process = multiprocessing.Process(target=print_number, args=(i,))\n",
    "        processes.append(process)\n",
    "        process.start()\n",
    "\n",
    "    for process in processes:\n",
    "        process.join()\n",
    "\n",
    "    print('Process is Executed')    \n"
   ]
  },
  {
   "cell_type": "code",
   "execution_count": null,
   "metadata": {},
   "outputs": [],
   "source": []
  }
 ],
 "metadata": {
  "kernelspec": {
   "display_name": "Python 3",
   "language": "python",
   "name": "python3"
  },
  "language_info": {
   "codemirror_mode": {
    "name": "ipython",
    "version": 3
   },
   "file_extension": ".py",
   "mimetype": "text/x-python",
   "name": "python",
   "nbconvert_exporter": "python",
   "pygments_lexer": "ipython3",
   "version": "3.12.0"
  }
 },
 "nbformat": 4,
 "nbformat_minor": 2
}
