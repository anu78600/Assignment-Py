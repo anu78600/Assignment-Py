{
 "cells": [
  {
   "cell_type": "markdown",
   "metadata": {},
   "source": [
    "Q1. What is Flask Framework? What are the advantages of Flask Framework?"
   ]
  },
  {
   "cell_type": "markdown",
   "metadata": {},
   "source": [
    "Ans --\n",
    "\n",
    "#### Flask Framework--\n",
    "\n",
    "Flask is a micro web framework written in Python. It doesn’t require particular tools or libraries and is known for its simplicity and flexibility.\n",
    "\n",
    "It’s based on the WSGI toolkit and Jinja2 templating engine.\n",
    "\n",
    "#### Advantages of Flask Framework:\n",
    "\n",
    "1. Scalable: Due to its status as a microframework, Flask can be used to quickly grow technological projects like web apps.\n",
    "\n",
    "2. Flexible: Flask allows you to customize and extend the framework to suit your needs.\n",
    "\n",
    "3. Easy to Learn: Its simple and intuitive API makes it easy to learn and use for beginners.\n",
    "\n",
    "4. Lightweight: Flask requires a minimal amount of fundamental code to build a simple web application."
   ]
  },
  {
   "cell_type": "markdown",
   "metadata": {},
   "source": [
    "Q2. Create a simple Flask application to display ‘Hello World!!’. Attach the screenshot of the output in Jupyter Notebook."
   ]
  },
  {
   "cell_type": "code",
   "execution_count": 3,
   "metadata": {},
   "outputs": [
    {
     "name": "stdout",
     "output_type": "stream",
     "text": [
      " * Serving Flask app '__main__'\n",
      " * Debug mode: off\n"
     ]
    },
    {
     "name": "stderr",
     "output_type": "stream",
     "text": [
      "WARNING: This is a development server. Do not use it in a production deployment. Use a production WSGI server instead.\n",
      " * Running on all addresses (0.0.0.0)\n",
      " * Running on http://127.0.0.1:5000\n",
      " * Running on http://192.168.29.174:5000\n",
      "Press CTRL+C to quit\n",
      "192.168.29.174 - - [15/Dec/2023 14:51:09] \"GET / HTTP/1.1\" 200 -\n",
      "192.168.29.174 - - [15/Dec/2023 14:51:12] \"GET / HTTP/1.1\" 200 -\n",
      "192.168.29.174 - - [15/Dec/2023 14:51:14] \"GET / HTTP/1.1\" 200 -\n"
     ]
    }
   ],
   "source": [
    "from flask import Flask\n",
    "\n",
    "app = Flask(__name__)\n",
    "\n",
    "@app.route(\"/\")\n",
    "def hello_world():\n",
    "    return \"<h1>Hello World!!</h1>\"\n",
    "\n",
    "if __name__ == \"__main__\":\n",
    "    app.run(host=\"0.0.0.0\")    "
   ]
  },
  {
   "cell_type": "markdown",
   "metadata": {},
   "source": [
    "![Output Screenshot](helloworld.jpg)"
   ]
  },
  {
   "cell_type": "code",
   "execution_count": null,
   "metadata": {},
   "outputs": [],
   "source": []
  },
  {
   "cell_type": "markdown",
   "metadata": {},
   "source": []
  }
 ],
 "metadata": {
  "kernelspec": {
   "display_name": "Python 3",
   "language": "python",
   "name": "python3"
  },
  "language_info": {
   "codemirror_mode": {
    "name": "ipython",
    "version": 3
   },
   "file_extension": ".py",
   "mimetype": "text/x-python",
   "name": "python",
   "nbconvert_exporter": "python",
   "pygments_lexer": "ipython3",
   "version": "3.12.0"
  }
 },
 "nbformat": 4,
 "nbformat_minor": 2
}
