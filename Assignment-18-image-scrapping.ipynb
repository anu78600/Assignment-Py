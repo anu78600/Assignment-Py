{
 "cells": [
  {
   "cell_type": "markdown",
   "metadata": {},
   "source": [
    "`https://www.youtube.com/@PW-Foundation/videos`"
   ]
  },
  {
   "cell_type": "markdown",
   "metadata": {},
   "source": [
    "Q1. Write a python program to extract the video URL of the first five videos."
   ]
  },
  {
   "cell_type": "code",
   "execution_count": 18,
   "metadata": {},
   "outputs": [],
   "source": [
    "import requests\n",
    "from bs4 import BeautifulSoup\n",
    "def get_video_urls(channel_url, num_videos):\n",
    "    base_url = \"https://www.youtube.com\"\n",
    "    response = requests.get(channel_url)\n",
    "    soup = BeautifulSoup(response.text, 'html.parser')\n",
    "    video_elements = soup.find_all('a', {'id': 'video-title-link'}, limit=num_videos)\n",
    "    video_urls = [base_url + elem['href'] for elem in video_elements]\n",
    "    return video_urls\n",
    "\n",
    "channel_url = \"https://www.youtube.com/@PW-Foundation/videos\"\n",
    "video_urls = get_video_urls(channel_url, 5)\n",
    "\n",
    "for url in video_urls:\n",
    "    print(url)\n"
   ]
  },
  {
   "cell_type": "markdown",
   "metadata": {},
   "source": [
    "Q2.Write a python program to extract the URL of the video thumbnails of the first five videos."
   ]
  },
  {
   "cell_type": "code",
   "execution_count": 19,
   "metadata": {},
   "outputs": [],
   "source": [
    "import requests\n",
    "from bs4 import BeautifulSoup\n",
    "\n",
    "def get_thumbnail_urls(url, num_videos):\n",
    "    response = requests.get(url)\n",
    "    soup = BeautifulSoup(response.text, 'html.parser')\n",
    "    thumbnails = soup.find_all('img', {'class': 'style-scope yt-img-shadow'})\n",
    "\n",
    "    thumbnail_urls = []\n",
    "    for thumbnail in thumbnails:\n",
    "        if len(thumbnail_urls) == num_videos:\n",
    "            break\n",
    "        if 'src' in thumbnail.attrs:\n",
    "            thumbnail_urls.append(thumbnail['src'])\n",
    "\n",
    "    return thumbnail_urls\n",
    "\n",
    "url = 'https://www.youtube.com/@PW-Foundation/videos'\n",
    "num_videos = 5\n",
    "thumbnail_urls = get_thumbnail_urls(url, num_videos)\n",
    "\n",
    "for i, url in enumerate(thumbnail_urls):\n",
    "    print(f\"Thumbnail {i+1}: {url}\")\n"
   ]
  },
  {
   "cell_type": "code",
   "execution_count": null,
   "metadata": {},
   "outputs": [],
   "source": []
  }
 ],
 "metadata": {
  "kernelspec": {
   "display_name": "Python 3",
   "language": "python",
   "name": "python3"
  },
  "language_info": {
   "codemirror_mode": {
    "name": "ipython",
    "version": 3
   },
   "file_extension": ".py",
   "mimetype": "text/x-python",
   "name": "python",
   "nbconvert_exporter": "python",
   "pygments_lexer": "ipython3",
   "version": "3.12.0"
  }
 },
 "nbformat": 4,
 "nbformat_minor": 2
}
