{
 "cells": [
  {
   "cell_type": "markdown",
   "metadata": {},
   "source": [
    "Q1.What is multithreading in python? Why it is used?Name the module used to handle threads in python."
   ]
  },
  {
   "cell_type": "markdown",
   "metadata": {},
   "source": [
    "#### Threads\n",
    "\n",
    "A thread is a sequence of instructions that an operating system can execute independently.It can be thought of the smallest unit of the process.\n",
    "\n",
    "#### Multithreading in python\n",
    "\n",
    "Multithreading in python means executing multiple parts of the program at a time using the threading module.\n",
    "\n",
    "We import this module by writing import threading in python."
   ]
  },
  {
   "cell_type": "code",
   "execution_count": 2,
   "metadata": {},
   "outputs": [
    {
     "name": "stdout",
     "output_type": "stream",
     "text": [
      "0\n",
      "2\n",
      "4\n",
      "6\n",
      "8\n",
      "10\n",
      "12\n",
      "14\n",
      "16\n",
      "18\n",
      "1\n",
      "3\n",
      "5\n",
      "7\n",
      "9\n",
      "11\n",
      "13\n",
      "15\n",
      "17\n",
      "19\n",
      "End of the process\n"
     ]
    }
   ],
   "source": [
    "# Example :\n",
    "\n",
    "import threading\n",
    "\n",
    "def even():\n",
    "    for i in range(0,20,2):\n",
    "        print(i)\n",
    "\n",
    "def odd():\n",
    "    for i in range(1,20,2):\n",
    "        print(i)\n",
    "\n",
    "t1 = threading.Thread(target=even)\n",
    "t2 = threading.Thread(target=odd)\n",
    "\n",
    "t1.start()\n",
    "t2.start()\n",
    "\n",
    "print('End of the process')"
   ]
  },
  {
   "cell_type": "code",
   "execution_count": null,
   "metadata": {},
   "outputs": [],
   "source": []
  },
  {
   "cell_type": "markdown",
   "metadata": {},
   "source": [
    "Q2. why threading module used ? write the use of the following functions:\n",
    "\n",
    "1.activeCount()\n",
    "\n",
    "2.currentThread()\n",
    "\n",
    "3.enumerate()"
   ]
  },
  {
   "cell_type": "markdown",
   "metadata": {},
   "source": [
    "Ans-\n",
    "\n",
    "The threading module exposes all the methods of the thread module and provide some additional methods --\n",
    "\n",
    "threading.activeCount()-- Returns the number of thread objects that are active.\n",
    "\n",
    "threading.currentThread()-- Returns the number of thread objects in the caller's thread control.\n",
    "\n",
    "threading.enumerate()-- Returns a list of all thread objects that are currently active."
   ]
  },
  {
   "cell_type": "code",
   "execution_count": null,
   "metadata": {},
   "outputs": [],
   "source": []
  },
  {
   "cell_type": "markdown",
   "metadata": {},
   "source": [
    "Q3.Explain the following functions:\n",
    "\n",
    "1.run()\n",
    "\n",
    "2.start()\n",
    "\n",
    "3.join()\n",
    "\n",
    "4.isAlive()"
   ]
  },
  {
   "cell_type": "markdown",
   "metadata": {},
   "source": [
    "Ans-\n",
    "\n",
    "1.run()-- The run() methods is the entry point for a thread.\n",
    "\n",
    "2.start()-- The start()method starts a thread by calling the run method.\n",
    "\n",
    "3.join()-- The join() waits for threads to terminates.\n",
    "\n",
    "4.isAlive()-- The isAlive() method checks whether a thread is still executing."
   ]
  },
  {
   "cell_type": "code",
   "execution_count": null,
   "metadata": {},
   "outputs": [],
   "source": []
  },
  {
   "cell_type": "markdown",
   "metadata": {},
   "source": [
    "Q4. Write a python program to create two threads. Thread one must print the list of square and thread two must print the list of cubes."
   ]
  },
  {
   "cell_type": "code",
   "execution_count": 1,
   "metadata": {},
   "outputs": [
    {
     "name": "stdout",
     "output_type": "stream",
     "text": [
      "1 squared is 1\n",
      "2 squared is 4\n",
      "3 squared is 9\n",
      "4 squared is 16\n",
      "5 squared is 25\n",
      "6 squared is 36\n",
      "7 squared is 49\n",
      "8 squared is 64\n",
      "9 squared is 81\n",
      "10 squared is 100\n",
      "1 cubes is 1\n",
      "2 cubes is 8\n",
      "3 cubes is 27\n",
      "4 cubes is 64\n",
      "5 cubes is 125\n",
      "6 cubes is 216\n",
      "7 cubes is 343\n",
      "8 cubes is 512\n",
      "9 cubes is 729\n",
      "10 cubes is 1000\n"
     ]
    }
   ],
   "source": [
    "import threading\n",
    "\n",
    "def print_square():\n",
    "    for i in range(1,11):\n",
    "        print(f'{i} squared is {i**2}')\n",
    "\n",
    "def print_cube():\n",
    "    for i in range(1,11):\n",
    "        print(f'{i} cubes is {i**3}')\n",
    "\n",
    "t1 = threading.Thread(target=print_square)                \n",
    "t2 = threading.Thread(target=print_cube)  \n",
    "\n",
    "t1.start()\n",
    "t2.start()\n",
    "\n",
    "t1.join()\n",
    "t2.join()"
   ]
  },
  {
   "cell_type": "markdown",
   "metadata": {},
   "source": [
    "Q5. State the advantages and disadvantages of multithreading."
   ]
  },
  {
   "cell_type": "markdown",
   "metadata": {},
   "source": [
    "Ans-\n",
    "\n",
    "#### Advantages:\n",
    "\n",
    "Multithreading allows multiple threads to run concurrently within a single process, which can improve the performance of CPU-bound tasks.\n",
    "\n",
    "It can help to improve the responsiveness of applications that have a lot of I/O-bound tasks.\n",
    "\n",
    "Multithreading can help to simplify the design of certain types of applications, such as those that involve user interfaces.\n",
    "\n",
    "It can help to reduce the amount of time that it takes to complete certain types of tasks.\n",
    "\n",
    "#### Disadvantages:\n",
    "\n",
    "Multithreading can be difficult to implement correctly, especially when dealing with shared resources.\n",
    "\n",
    "It can be difficult to debug multithreaded applications, as the order in which threads execute can be unpredictable.\n",
    "\n",
    "Multithreading can lead to race conditions, where multiple threads try to access the same resource at the same time, leading to unexpected results.\n",
    "\n",
    "Multithreading can lead to deadlocks, where two or more threads are waiting for each other to release a resource, resulting in a situation where neither thread can proceed."
   ]
  },
  {
   "cell_type": "markdown",
   "metadata": {},
   "source": []
  },
  {
   "cell_type": "markdown",
   "metadata": {},
   "source": [
    "Q6.Explain deadlocks and race conditions."
   ]
  },
  {
   "cell_type": "markdown",
   "metadata": {},
   "source": [
    "Ans- \n",
    "\n",
    "Deadlock exists when two threads seek one lock simultaneouly.This situation will stop both threads from executing or processing the functions.\n",
    "\n",
    "A race condition occurs when two threads use the same variables at a given time.In racing , two tasks compete with each other and try to complete a task before each other.\n"
   ]
  },
  {
   "cell_type": "markdown",
   "metadata": {},
   "source": []
  }
 ],
 "metadata": {
  "kernelspec": {
   "display_name": "Python 3",
   "language": "python",
   "name": "python3"
  },
  "language_info": {
   "codemirror_mode": {
    "name": "ipython",
    "version": 3
   },
   "file_extension": ".py",
   "mimetype": "text/x-python",
   "name": "python",
   "nbconvert_exporter": "python",
   "pygments_lexer": "ipython3",
   "version": "3.12.0"
  }
 },
 "nbformat": 4,
 "nbformat_minor": 2
}
