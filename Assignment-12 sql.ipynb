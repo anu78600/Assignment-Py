{
 "cells": [
  {
   "cell_type": "markdown",
   "metadata": {},
   "source": [
    "Q1. What is a database?Differentiate between SQL and NoSQL databases."
   ]
  },
  {
   "cell_type": "markdown",
   "metadata": {},
   "source": [
    "Ans-\n",
    "\n",
    "#### Database-\n",
    "\n",
    "A database is an organized collection of data stored in a computer system and usually controlled by a database management system (DBMS).The data in common databases is modeled in tables,making querying and processing efficient.\n",
    "\n",
    "Structured query language (SQL) is commonly used for data querying and writing.\n",
    "\n",
    "Examples--\n",
    "\n",
    "In the bank,In school,In the railway station,In a grocery store,etc.. These are the instances where we need to store a large amount of data in one place and fetch these data easily."
   ]
  },
  {
   "cell_type": "markdown",
   "metadata": {},
   "source": [
    "#### SQL vs NoSQL-\n",
    "\n",
    "1)\tDatabases are categorized as Relational Database Management System (RDBMS).\n",
    "\n",
    "NoSQL databases are categorized as Non-relational or distributed database system.\n",
    "\n",
    "2)\tSQL databases have fixed or static or predefined schema.\t\n",
    "\n",
    "NoSQL databases have dynamic schema.\n",
    "\n",
    "3)\tSQL databases display data in form of tables so it is known as table-based database. \n",
    "\n",
    "NoSQL databases display data as collection of key-value pair, documents, graph databases or wide-column stores.\n",
    "\n",
    "4)\tSQL databases are vertically scalable. \n",
    "\n",
    "NoSQL databases are horizontally scalable.\n",
    "\n",
    "5)\tSQL databases use a powerful language \"Structured Query Language\" to define and manipulate the data.\n",
    "\n",
    " In NoSQL databases, collection of documents are used to query the data. It is also called unstructured query language. It varies from database to database.\n",
    "\n",
    "6)\tSQL databases are best suited for complex queries.\t\n",
    "\n",
    "NoSQL databases are not so good for complex queries because these are not as powerful as SQL queries.\n",
    "\n",
    "7)\tSQL databases are not best suited for hierarchical data storage.\t\n",
    "\n",
    "NoSQL databases are best suited for hierarchical data storage.\n",
    "\n",
    "8)\tMySQL, Oracle, Sqlite, PostgreSQL and MS-SQL etc. are the example of SQL database.\n",
    "\n",
    "MongoDB, BigTable, Redis, RavenDB, Cassandra, Hbase, Neo4j, CouchDB etc. are the example of nosql database."
   ]
  },
  {
   "cell_type": "code",
   "execution_count": null,
   "metadata": {},
   "outputs": [],
   "source": []
  },
  {
   "cell_type": "markdown",
   "metadata": {},
   "source": [
    "Q2.What is DDL?Explain why CREATE,DROP,ALTER,and TRUNCATE are used with an example."
   ]
  },
  {
   "cell_type": "markdown",
   "metadata": {},
   "source": [
    "Ans-\n",
    "\n",
    "#### DDL-\n",
    "\n",
    "Data Definition Language(DDL) is a subset of SQL and a part of DBMS(Database Management System). DDL consist of Commands to commands like CREATE, ALTER, TRUNCATE and DROP. These commands are used to create or modify the tables in SQL.\n"
   ]
  },
  {
   "cell_type": "markdown",
   "metadata": {},
   "source": [
    "#### DDL Commands-\n",
    "\n",
    "1.Create\n",
    "2.Alter \n",
    "3.truncate\n",
    "4.drop\n",
    "5.Rename "
   ]
  },
  {
   "cell_type": "markdown",
   "metadata": {},
   "source": [
    "Command-1 :\n",
    "\n",
    "CREATE :\n",
    "\n",
    "This command is used to create a new table in SQL. The user has to give information like table name, column names, and their datatypes.\n",
    "\n",
    "Syntax –\n",
    "\n",
    "CREATE TABLE table_name\n",
    "(\n",
    "column_1 datatype,\n",
    "column_2 datatype,\n",
    "column_3 datatype,\n",
    "....\n",
    ");\n",
    "\n",
    "Example –\n",
    "\n",
    "We need to create a table for storing Student information of a particular College. Create syntax would be as below.\n",
    "\n",
    "CREATE TABLE Student_info\n",
    "(\n",
    "College_Id number(2),\n",
    "College_name varchar(30),\n",
    "Branch varchar(10)\n",
    ");\n",
    "\n",
    "----------------------------------------------------------------\n",
    "\n",
    "Command-2 :\n",
    "\n",
    "ALTER :\n",
    "\n",
    "This command is used to add, delete or change columns in the existing table. The user needs to know the existing table name and can do add, delete or modify tasks easily.\n",
    "\n",
    "Syntax –\n",
    "\n",
    "Syntax to add a column to an existing table.\n",
    "\n",
    "ALTER TABLE table_name\n",
    "ADD column_name datatype;\n",
    "\n",
    "Example –\n",
    "\n",
    "In our Student_info table, we want to add a new column for CGPA. The syntax would be as below as follows.\n",
    "\n",
    "ALTER TABLE Student_info\n",
    "ADD CGPA number;\n",
    "\n",
    "----------------------------------------------------------------\n",
    "\n",
    "Command-3 :\n",
    "\n",
    "TRUNCATE :\n",
    "\n",
    "This command is used to remove all rows from the table, but the structure of the table still exists.\n",
    "\n",
    "Syntax –\n",
    "\n",
    "Syntax to remove an existing table.\n",
    "\n",
    "TRUNCATE TABLE table_name;\n",
    "\n",
    "Example –\n",
    "\n",
    "The College Authority wants to remove the details of all students for new batches but wants to keep the table structure. The command they can use is as follows.\n",
    "\n",
    "TRUNCATE TABLE Student_info;\n",
    "\n",
    "----------------------------------------------------------------\n",
    "\n",
    "Command-4 :\n",
    "\n",
    "DROP :\n",
    "\n",
    "This command is used to remove an existing table along with its structure from the Database.\n",
    "\n",
    "Syntax –\n",
    "\n",
    "Syntax to drop an existing table.\n",
    "\n",
    "DROP TABLE table_name;\n",
    "\n",
    "Example –\n",
    "\n",
    "If the College Authority wants to change their Database by deleting the Student_info Table. \n",
    "\n",
    "DROP TABLE Student_info;\n",
    "\n",
    "----------------------------------------------------------------\n",
    "\n",
    "Command -5\n",
    "\n",
    "RENAME:\n",
    "\n",
    "It is possible to change name of table with or without data in it using simple RENAME command.\n",
    "\n",
    "We can rename any table object at any point of time.\n",
    "\n",
    "Syntax –\n",
    "\n",
    "\" RENAME TABLE <#Table Name> To <#New_Table_Name>; \"\n",
    "\n",
    "Note : Ignore # in Table Name and New_Table_Name.\n",
    "\n",
    "Example:\n",
    "\n",
    "If you want to change the name of the table from Employee to Emp we can use rename command as \n",
    "\n",
    "RENAME TABLE Employee To EMP;"
   ]
  },
  {
   "cell_type": "code",
   "execution_count": null,
   "metadata": {},
   "outputs": [],
   "source": []
  },
  {
   "cell_type": "markdown",
   "metadata": {},
   "source": [
    "Q3.What id DML?Explain INSERT,UPDATE,and DELETE with an example."
   ]
  },
  {
   "cell_type": "markdown",
   "metadata": {},
   "source": [
    "Ans-\n"
   ]
  }
 ],
 "metadata": {
  "kernelspec": {
   "display_name": "Python 3",
   "language": "python",
   "name": "python3"
  },
  "language_info": {
   "codemirror_mode": {
    "name": "ipython",
    "version": 3
   },
   "file_extension": ".py",
   "mimetype": "text/x-python",
   "name": "python",
   "nbconvert_exporter": "python",
   "pygments_lexer": "ipython3",
   "version": "3.12.0"
  }
 },
 "nbformat": 4,
 "nbformat_minor": 2
}
