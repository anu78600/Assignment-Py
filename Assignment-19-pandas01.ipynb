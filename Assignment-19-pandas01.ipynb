{
 "cells": [
  {
   "cell_type": "markdown",
   "metadata": {},
   "source": [
    "Q1. Create a Pandas Series that contains the following data: 4, 8, 15, 16, 23, and 42. Then, print the series."
   ]
  },
  {
   "cell_type": "code",
   "execution_count": 1,
   "metadata": {},
   "outputs": [],
   "source": [
    "import pandas as pd"
   ]
  },
  {
   "cell_type": "code",
   "execution_count": 2,
   "metadata": {},
   "outputs": [
    {
     "name": "stdout",
     "output_type": "stream",
     "text": [
      "0     4\n",
      "1     8\n",
      "2    15\n",
      "3    16\n",
      "4    23\n",
      "5    42\n",
      "dtype: int64\n"
     ]
    }
   ],
   "source": [
    "ds = pd.Series([4,8,15,16,23,42])\n",
    "print(ds)"
   ]
  },
  {
   "cell_type": "markdown",
   "metadata": {},
   "source": [
    "Q2. Create a variable of list type containing 10 elements in it, and apply pandas.Series function on the variable print it."
   ]
  },
  {
   "cell_type": "code",
   "execution_count": 5,
   "metadata": {},
   "outputs": [
    {
     "name": "stdout",
     "output_type": "stream",
     "text": [
      "0    [23, name, value, 1.3, 1, 2, 3, 4, True, False]\n",
      "dtype: object\n"
     ]
    }
   ],
   "source": [
    "vars = [23,'name','value',1.3,1,2,3,4,True,False]\n",
    "\n",
    "df1 = pd.Series([vars])\n",
    "\n",
    "print(df1)"
   ]
  },
  {
   "cell_type": "markdown",
   "metadata": {},
   "source": [
    "Q3. Create a Pandas DataFrame that contains the following data: and print the dataframe."
   ]
  },
  {
   "cell_type": "code",
   "execution_count": 8,
   "metadata": {},
   "outputs": [
    {
     "name": "stdout",
     "output_type": "stream",
     "text": [
      "     Name  Age  Gender\n",
      "0   Alice   25   False\n",
      "1     Bob   30    Male\n",
      "2  Claire   27  Female\n"
     ]
    }
   ],
   "source": [
    "data = {\n",
    "    'Name': ['Alice','Bob','Claire'],\n",
    "    'Age': [25,30,27],\n",
    "    'Gender': ['False','Male','Female']\n",
    "}\n",
    "\n",
    "df2 = pd.DataFrame(data)\n",
    "\n",
    "print(df2)"
   ]
  },
  {
   "cell_type": "markdown",
   "metadata": {},
   "source": [
    "Q4. What is 'DataFrame'in Pandas and how is it different from pandas.series?Explain with an example."
   ]
  },
  {
   "cell_type": "markdown",
   "metadata": {},
   "source": [
    "Ans--\n",
    "\n",
    "A **Pandas DataFrame** is a two-dimensional table of data with rows and columns.It's like a spreadsheet or SQL table, or a dictonary of series objects."
   ]
  },
  {
   "cell_type": "markdown",
   "metadata": {},
   "source": [
    "`Example-`\n"
   ]
  },
  {
   "cell_type": "code",
   "execution_count": 15,
   "metadata": {},
   "outputs": [
    {
     "name": "stdout",
     "output_type": "stream",
     "text": [
      "           A    B  C\n",
      "0 2023-01-01  1.0  3\n",
      "1 2023-01-01  1.0  3\n",
      "2 2023-01-01  1.0  3\n",
      "3 2023-01-01  1.0  3\n"
     ]
    }
   ],
   "source": [
    "import pandas as pd\n",
    "\n",
    "df3 = pd.DataFrame({\n",
    "    'A': pd.Timestamp('2023'),\n",
    "    'B': pd.Series(1,index=list(range(4)),dtype='float32'),\n",
    "    'C': pd.array([3]*4,dtype='int32')\n",
    "})\n",
    "\n",
    "print(df3)"
   ]
  },
  {
   "cell_type": "markdown",
   "metadata": {},
   "source": [
    "A **Pandas Series** is like a column in a table. It is one-dimensional array holding data of any type."
   ]
  },
  {
   "cell_type": "markdown",
   "metadata": {},
   "source": [
    "`Example-`"
   ]
  },
  {
   "cell_type": "code",
   "execution_count": 17,
   "metadata": {},
   "outputs": [
    {
     "name": "stdout",
     "output_type": "stream",
     "text": [
      "0      1\n",
      "1      3\n",
      "2      4\n",
      "3    nan\n",
      "4      6\n",
      "5      7\n",
      "dtype: object\n"
     ]
    }
   ],
   "source": [
    "s = pd.Series([1,3,4,\"nan\",6,7])\n",
    "\n",
    "print(s)"
   ]
  },
  {
   "cell_type": "markdown",
   "metadata": {},
   "source": [
    "Q5. What are some common functions you can use to manipulate data in a Pandas DataFrame? Can\n",
    "you give an example of when you might use one of these functions?"
   ]
  },
  {
   "cell_type": "markdown",
   "metadata": {},
   "source": [
    "Ans--\n",
    "\n",
    "Pandas is a powerful Python library for data manipulation and analysis. \n",
    "\n",
    "Some common functions we can use to manipulate data in a Pandas DataFrame:\n",
    "\n",
    "1. **`head()` and `tail()`**: These functions return the first and last 'n' rows of the DataFrame respectively. This is useful when you want to quickly inspect your data without loading the entire dataset.\n",
    "\n",
    "2. **`describe()`**: This function provides a statistical summary of the DataFrame - like mean, median, and standard deviation. This is useful for getting a quick overview of the dataset's distribution.\n",
    "\n",
    "3. **`drop()`**: This function is used to drop specified labels from rows or columns. This is useful when you want to remove unnecessary data.\n",
    "\n",
    "4. **`rename()`**: This function allows you to rename column names or index names. This is useful when you want to make your column names more readable.\n",
    "\n",
    "5. **`sort_values()`**: This function sorts a DataFrame along either axis. This is useful when you want to organize your data for better understanding or visualization.\n",
    "\n",
    "6. **`groupby()`**: This function is used to split the data into groups based on some criteria. This is useful when you want to segment your data and perform analysis on these segments.\n",
    "\n"
   ]
  },
  {
   "cell_type": "markdown",
   "metadata": {},
   "source": [
    "`Example-`"
   ]
  },
  {
   "cell_type": "code",
   "execution_count": 2,
   "metadata": {},
   "outputs": [
    {
     "name": "stdout",
     "output_type": "stream",
     "text": [
      "count     5.000000\n",
      "mean     35.000000\n",
      "std       7.905694\n",
      "min      25.000000\n",
      "25%      30.000000\n",
      "50%      35.000000\n",
      "75%      40.000000\n",
      "max      45.000000\n",
      "Name: Age, dtype: float64\n"
     ]
    }
   ],
   "source": [
    "import pandas as pd\n",
    "\n",
    "df = pd.DataFrame({'Age': [25, 30, 35, 40, 45]})\n",
    "\n",
    "summary = df['Age'].describe()\n",
    "\n",
    "print(summary)"
   ]
  },
  {
   "cell_type": "markdown",
   "metadata": {},
   "source": [
    "Q6. Which of the following is mutable in nature Series, DataFrame, Panel?"
   ]
  },
  {
   "cell_type": "markdown",
   "metadata": {},
   "source": [
    "Ans--\n",
    "\n",
    "1. **Series**: A Series is a one-dimensional array with homogeneous data. The size of a Series is immutable, which means once a Series object is created, operations such as appending or deleting, which would change the size of the object, are not allowed. However, the data within a Series is mutable. This means that while you cannot change the size of a Series, you can change the data it contains.\n",
    "\n",
    "2. **DataFrame**: A DataFrame is a two-dimensional array with heterogeneous data. Both the size and the data of a DataFrame are mutable. This means you can change both the size (i.e., number of rows or columns) and the data within a DataFrame. When you create a new DataFrame from an existing one, the data will be shared between the two by default. If you want to create a completely independent copy, you can use the `copy()` method.\n",
    "\n",
    "3. **Panel**: A Panel is a three-dimensional data structure with heterogeneous data. Similar to a DataFrame, both the size and the data of a Panel are mutable. This means you can change both the size and the data within a Panel.\n",
    "\n",
    "`Both DataFrame and Panel are mutable in nature, while a Series is only mutable in terms of its data, not its size.`\n"
   ]
  },
  {
   "cell_type": "markdown",
   "metadata": {},
   "source": [
    "Q7. Create a DataFrame using multiple Series.Explain with an example."
   ]
  },
  {
   "cell_type": "code",
   "execution_count": 1,
   "metadata": {},
   "outputs": [
    {
     "name": "stdout",
     "output_type": "stream",
     "text": [
      "   A  B  C\n",
      "0  1  4  7\n",
      "1  2  5  8\n",
      "2  3  6  9\n"
     ]
    }
   ],
   "source": [
    "import pandas as pd\n",
    "\n",
    "# Create Series\n",
    "series1 = pd.Series([1, 2, 3], name='A')\n",
    "series2 = pd.Series([4, 5, 6], name='B')\n",
    "series3 = pd.Series([7, 8, 9], name='C')\n",
    "\n",
    "# Create DataFrame from multiple series\n",
    "df = pd.concat([series1, series2, series3], axis=1)\n",
    "\n",
    "print(df)"
   ]
  },
  {
   "cell_type": "markdown",
   "metadata": {},
   "source": [
    "In this example:\n",
    "\n",
    " `pd.Series` is used to create three Series named 'A', 'B', and 'C'. The `pd.concat` function is then used to concatenate these Series along `axis=1` (which refers to the columns; `axis=0` would refer to the rows), resulting in a DataFrame.\n"
   ]
  },
  {
   "cell_type": "markdown",
   "metadata": {},
   "source": []
  }
 ],
 "metadata": {
  "kernelspec": {
   "display_name": "Python 3",
   "language": "python",
   "name": "python3"
  },
  "language_info": {
   "codemirror_mode": {
    "name": "ipython",
    "version": 3
   },
   "file_extension": ".py",
   "mimetype": "text/x-python",
   "name": "python",
   "nbconvert_exporter": "python",
   "pygments_lexer": "ipython3",
   "version": "3.12.0"
  }
 },
 "nbformat": 4,
 "nbformat_minor": 2
}
